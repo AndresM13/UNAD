{
 "cells": [
  {
   "cell_type": "code",
   "execution_count": 1,
   "id": "c2783727-7012-47a0-bd22-d2ccbee98856",
   "metadata": {},
   "outputs": [
    {
     "name": "stdout",
     "output_type": "stream",
     "text": [
      "Características seleccionadas (índices): [   0    6    8  165  468  487  663  675 1040 1191]\n",
      "Características seleccionadas (nombres): Index(['year', 'seller_type_Individual', 'transmission_Manual',\n",
      "       'mileage_16.78 kmpl', 'engine_1995 CC', 'engine_2487 CC',\n",
      "       'max_power_190 bhp', 'max_power_214.56 bhp',\n",
      "       'torque_202Nm@ 3600-5200rpm', 'torque_400Nm@ 1750-2500rpm'],\n",
      "      dtype='object')\n",
      "\n",
      "Mean Squared Error (MSE): 211295828511.31836\n",
      "R² Score: 0.6961009888211256\n"
     ]
    }
   ],
   "source": [
    "# Contiene información técnica y de mercado de automóviles. El objetivo es predecir \n",
    "# el precio del automóvil en función de sus atributos\n",
    "\n",
    "# Seleccionar las características más relevantes para entrenar el modelo utilizando selección de características\n",
    "\n",
    "# 1.Manejo de valores nulos\n",
    "# 2.Transformación de variables categóricas\n",
    "# 3.Escalado de datos numéricos\n",
    "\n",
    "# Importar librerías necesarias\n",
    "import pandas as pd\n",
    "import numpy as np\n",
    "from sklearn.model_selection import train_test_split\n",
    "from sklearn.linear_model import LinearRegression\n",
    "from sklearn.metrics import mean_squared_error, r2_score\n",
    "from sklearn.preprocessing import StandardScaler\n",
    "from sklearn.feature_selection import SelectKBest, f_regression\n",
    "\n",
    "# Cargar el dataset\n",
    "data = pd.read_csv('Dataset_Regresion_Lineal/Car details v3.csv')\n",
    "\n",
    "# Limpieza de datos\n",
    "columns_to_drop = ['name']  # Eliminar columnas irrelevantes\n",
    "data = data.drop(columns=columns_to_drop)\n",
    "data = data.dropna()  # Eliminar filas con valores nulos\n",
    "\n",
    "# Convertir variables categóricas a variables numéricas con One Hot Encoding\n",
    "data = pd.get_dummies(data, drop_first=True)\n",
    "\n",
    "# Separar características y el target (Precio)\n",
    "X = data.drop('selling_price', axis=1)\n",
    "y = data['selling_price']\n",
    "\n",
    "# Escalar las características\n",
    "scaler = StandardScaler()\n",
    "X_scaled = scaler.fit_transform(X)\n",
    "\n",
    "# Selección de características\n",
    "# Usar SelectKBest para escoger las K características más relevantes\n",
    "selector = SelectKBest(score_func=f_regression, k=10)  # Cambia 'k' según el número de características que quieras conservar\n",
    "X_selected = selector.fit_transform(X_scaled, y)\n",
    "\n",
    "# Revisar las características seleccionadas\n",
    "selected_features = selector.get_support(indices=True)\n",
    "print(\"Características seleccionadas (índices):\", selected_features)\n",
    "print(\"Características seleccionadas (nombres):\", X.columns[selected_features])\n",
    "\n",
    "# Dividir el dataset en conjuntos de entrenamiento y prueba usando solo las características seleccionadas\n",
    "X_train, X_test, y_train, y_test = train_test_split(X_selected, y, test_size=0.2, random_state=42)\n",
    "\n",
    "# Inicializar y entrenar el modelo de regresión lineal\n",
    "model = LinearRegression()\n",
    "model.fit(X_train, y_train)\n",
    "\n",
    "# Evaluar el modelo\n",
    "y_pred = model.predict(X_test)\n",
    "mse = mean_squared_error(y_test, y_pred)\n",
    "r2 = r2_score(y_test, y_pred)\n",
    "\n",
    "print(f'\\nMean Squared Error (MSE): {mse}')\n",
    "print(f'R² Score: {r2}')\n",
    "\n",
    "\n"
   ]
  },
  {
   "cell_type": "code",
   "execution_count": null,
   "id": "25c4c781-22fd-42f8-9360-90baca527073",
   "metadata": {},
   "outputs": [],
   "source": []
  },
  {
   "cell_type": "code",
   "execution_count": null,
   "id": "49ef6f34-ccd5-4551-9883-508d1dc64f96",
   "metadata": {},
   "outputs": [],
   "source": []
  }
 ],
 "metadata": {
  "kernelspec": {
   "display_name": "Python 3 (ipykernel)",
   "language": "python",
   "name": "python3"
  },
  "language_info": {
   "codemirror_mode": {
    "name": "ipython",
    "version": 3
   },
   "file_extension": ".py",
   "mimetype": "text/x-python",
   "name": "python",
   "nbconvert_exporter": "python",
   "pygments_lexer": "ipython3",
   "version": "3.12.7"
  }
 },
 "nbformat": 4,
 "nbformat_minor": 5
}
