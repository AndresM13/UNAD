{
 "cells": [
  {
   "cell_type": "code",
   "execution_count": 7,
   "id": "c2783727-7012-47a0-bd22-d2ccbee98856",
   "metadata": {},
   "outputs": [
    {
     "name": "stdout",
     "output_type": "stream",
     "text": [
      "Los mejores hiperparámetros son: {'alpha': 10, 'fit_intercept': True}\n",
      "\n",
      "Mean Squared Error (MSE): 211303023964.91312\n",
      "R² Score: 0.6960906398651248\n"
     ]
    }
   ],
   "source": [
    "# Contiene información técnica y de mercado de automóviles. El objetivo es predecir \n",
    "# el precio del automóvil en función de sus atributos\n",
    "\n",
    "\n",
    "# Para entrenar un modelo de regresión lineal y configurar diferentes hiperparámetros, puedes utilizar el método GridSearchCV\n",
    "\n",
    "# Importar librerías necesarias\n",
    "import pandas as pd\n",
    "import numpy as np\n",
    "from sklearn.model_selection import train_test_split, GridSearchCV\n",
    "from sklearn.linear_model import LinearRegression, Ridge, Lasso\n",
    "from sklearn.metrics import mean_squared_error, r2_score\n",
    "from sklearn.preprocessing import StandardScaler\n",
    "from sklearn.feature_selection import SelectKBest, f_regression\n",
    "\n",
    "# Cargar el dataset\n",
    "data = pd.read_csv('Dataset_Regresion_Lineal/Car details v3.csv')\n",
    "\n",
    "# Limpieza de datos\n",
    "columns_to_drop = ['name']  # Eliminar columnas irrelevantes\n",
    "data = data.drop(columns=columns_to_drop)\n",
    "data = data.dropna()  # Eliminar filas con valores nulos\n",
    "\n",
    "# Convertir variables categóricas a variables numéricas con One Hot Encoding\n",
    "data = pd.get_dummies(data, drop_first=True)\n",
    "\n",
    "# Separar características y el target (Precio)\n",
    "X = data.drop('selling_price', axis=1)\n",
    "y = data['selling_price']\n",
    "\n",
    "# Escalar las características\n",
    "scaler = StandardScaler()\n",
    "X_scaled = scaler.fit_transform(X)\n",
    "\n",
    "# Selección de características\n",
    "selector = SelectKBest(score_func=f_regression, k=10)  # Ajusta 'k' según sea necesario\n",
    "X_selected = selector.fit_transform(X_scaled, y)\n",
    "\n",
    "# Dividir el dataset en conjuntos de entrenamiento y prueba\n",
    "X_train, X_test, y_train, y_test = train_test_split(X_selected, y, test_size=0.2, random_state=42)\n",
    "\n",
    "# Configuración de hiperparámetros para GridSearchCV\n",
    "# Definir el modelo (puedes probar con LinearRegression, Ridge o Lasso)\n",
    "model = Ridge()  # Cambia a Lasso() si lo prefieres\n",
    "\n",
    "# Definir el rango de hiperparámetros\n",
    "param_grid = {\n",
    "    'alpha': [0.1, 1, 10, 100],  # Solo para Ridge o Lasso\n",
    "    'fit_intercept': [True, False]  # Ajustar el término de intercepción\n",
    "}\n",
    "\n",
    "# Configurar GridSearchCV\n",
    "grid_search = GridSearchCV(estimator=model, param_grid=param_grid, cv=5, scoring='neg_mean_squared_error', n_jobs=-1)\n",
    "grid_search.fit(X_train, y_train)\n",
    "\n",
    "# Obtener los mejores hiperparámetros\n",
    "best_params = grid_search.best_params_\n",
    "print(f'Los mejores hiperparámetros son: {best_params}')\n",
    "\n",
    "# Predecir en el conjunto de prueba usando el mejor modelo\n",
    "best_model = grid_search.best_estimator_\n",
    "y_pred = best_model.predict(X_test)\n",
    "\n",
    "# Evaluar el modelo\n",
    "mse = mean_squared_error(y_test, y_pred)\n",
    "r2 = r2_score(y_test, y_pred)\n",
    "\n",
    "print(f'\\nMean Squared Error (MSE): {mse}')\n",
    "print(f'R² Score: {r2}')\n",
    "\n"
   ]
  },
  {
   "cell_type": "code",
   "execution_count": null,
   "id": "25c4c781-22fd-42f8-9360-90baca527073",
   "metadata": {},
   "outputs": [],
   "source": []
  },
  {
   "cell_type": "code",
   "execution_count": null,
   "id": "49ef6f34-ccd5-4551-9883-508d1dc64f96",
   "metadata": {},
   "outputs": [],
   "source": []
  }
 ],
 "metadata": {
  "kernelspec": {
   "display_name": "Python 3 (ipykernel)",
   "language": "python",
   "name": "python3"
  },
  "language_info": {
   "codemirror_mode": {
    "name": "ipython",
    "version": 3
   },
   "file_extension": ".py",
   "mimetype": "text/x-python",
   "name": "python",
   "nbconvert_exporter": "python",
   "pygments_lexer": "ipython3",
   "version": "3.12.7"
  }
 },
 "nbformat": 4,
 "nbformat_minor": 5
}
